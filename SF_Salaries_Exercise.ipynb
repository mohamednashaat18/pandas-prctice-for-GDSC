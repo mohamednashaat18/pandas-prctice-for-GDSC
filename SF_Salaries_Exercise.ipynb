{
 "cells": [
  {
   "cell_type": "markdown",
   "metadata": {
    "id": "UUKiQw6lSv0b"
   },
   "source": [
    "# SF Salaries Exercise - Solutions\n",
    "\n",
    "Welcome to a quick exercise for you to practice your pandas skills! We will be using the [SF Salaries Dataset](https://www.kaggle.com/kaggle/sf-salaries) from Kaggle! Just follow along and complete the tasks outlined in bold below. The tasks will get harder and harder as you go along."
   ]
  },
  {
   "cell_type": "markdown",
   "metadata": {
    "id": "KTgrYCvJSv1A"
   },
   "source": [
    "**Import pandas as pd.**"
   ]
  },
  {
   "cell_type": "code",
   "execution_count": 1,
   "metadata": {
    "id": "_18f5e2GSv1B"
   },
   "outputs": [],
   "source": [
    "import pandas as pd"
   ]
  },
  {
   "cell_type": "markdown",
   "metadata": {
    "id": "KWapnc7tSv1E"
   },
   "source": [
    "**Read Salaries.csv as a dataframe called sal.**"
   ]
  },
  {
   "cell_type": "code",
   "execution_count": 2,
   "metadata": {
    "id": "w1VsupDbSv1F"
   },
   "outputs": [
    {
     "name": "stderr",
     "output_type": "stream",
     "text": [
      "C:\\Users\\mohamed\\AppData\\Local\\Temp\\ipykernel_22484\\84743563.py:1: DtypeWarning: Columns (3,4,5,6,12) have mixed types. Specify dtype option on import or set low_memory=False.\n",
      "  sal=pd.read_csv('Salaries.csv')\n"
     ]
    }
   ],
   "source": [
    "sal=pd.read_csv('Salaries.csv')"
   ]
  },
  {
   "cell_type": "markdown",
   "metadata": {
    "id": "AoMdjNC8Sv1H"
   },
   "source": [
    "**Check the head of the DataFrame.**"
   ]
  },
  {
   "cell_type": "code",
   "execution_count": 3,
   "metadata": {
    "id": "Pbi1Cwy_Sv1I",
    "outputId": "b4f09287-1eeb-417a-accc-4fbf8c2c9426"
   },
   "outputs": [
    {
     "data": {
      "text/html": [
       "<div>\n",
       "<style scoped>\n",
       "    .dataframe tbody tr th:only-of-type {\n",
       "        vertical-align: middle;\n",
       "    }\n",
       "\n",
       "    .dataframe tbody tr th {\n",
       "        vertical-align: top;\n",
       "    }\n",
       "\n",
       "    .dataframe thead th {\n",
       "        text-align: right;\n",
       "    }\n",
       "</style>\n",
       "<table border=\"1\" class=\"dataframe\">\n",
       "  <thead>\n",
       "    <tr style=\"text-align: right;\">\n",
       "      <th></th>\n",
       "      <th>Id</th>\n",
       "      <th>EmployeeName</th>\n",
       "      <th>JobTitle</th>\n",
       "      <th>BasePay</th>\n",
       "      <th>OvertimePay</th>\n",
       "      <th>OtherPay</th>\n",
       "      <th>Benefits</th>\n",
       "      <th>TotalPay</th>\n",
       "      <th>TotalPayBenefits</th>\n",
       "      <th>Year</th>\n",
       "      <th>Notes</th>\n",
       "      <th>Agency</th>\n",
       "      <th>Status</th>\n",
       "    </tr>\n",
       "  </thead>\n",
       "  <tbody>\n",
       "    <tr>\n",
       "      <th>0</th>\n",
       "      <td>1</td>\n",
       "      <td>NATHANIEL FORD</td>\n",
       "      <td>GENERAL MANAGER-METROPOLITAN TRANSIT AUTHORITY</td>\n",
       "      <td>167411.18</td>\n",
       "      <td>0.0</td>\n",
       "      <td>400184.25</td>\n",
       "      <td>NaN</td>\n",
       "      <td>567595.43</td>\n",
       "      <td>567595.43</td>\n",
       "      <td>2011</td>\n",
       "      <td>NaN</td>\n",
       "      <td>San Francisco</td>\n",
       "      <td>NaN</td>\n",
       "    </tr>\n",
       "    <tr>\n",
       "      <th>1</th>\n",
       "      <td>2</td>\n",
       "      <td>GARY JIMENEZ</td>\n",
       "      <td>CAPTAIN III (POLICE DEPARTMENT)</td>\n",
       "      <td>155966.02</td>\n",
       "      <td>245131.88</td>\n",
       "      <td>137811.38</td>\n",
       "      <td>NaN</td>\n",
       "      <td>538909.28</td>\n",
       "      <td>538909.28</td>\n",
       "      <td>2011</td>\n",
       "      <td>NaN</td>\n",
       "      <td>San Francisco</td>\n",
       "      <td>NaN</td>\n",
       "    </tr>\n",
       "    <tr>\n",
       "      <th>2</th>\n",
       "      <td>3</td>\n",
       "      <td>ALBERT PARDINI</td>\n",
       "      <td>CAPTAIN III (POLICE DEPARTMENT)</td>\n",
       "      <td>212739.13</td>\n",
       "      <td>106088.18</td>\n",
       "      <td>16452.6</td>\n",
       "      <td>NaN</td>\n",
       "      <td>335279.91</td>\n",
       "      <td>335279.91</td>\n",
       "      <td>2011</td>\n",
       "      <td>NaN</td>\n",
       "      <td>San Francisco</td>\n",
       "      <td>NaN</td>\n",
       "    </tr>\n",
       "    <tr>\n",
       "      <th>3</th>\n",
       "      <td>4</td>\n",
       "      <td>CHRISTOPHER CHONG</td>\n",
       "      <td>WIRE ROPE CABLE MAINTENANCE MECHANIC</td>\n",
       "      <td>77916.0</td>\n",
       "      <td>56120.71</td>\n",
       "      <td>198306.9</td>\n",
       "      <td>NaN</td>\n",
       "      <td>332343.61</td>\n",
       "      <td>332343.61</td>\n",
       "      <td>2011</td>\n",
       "      <td>NaN</td>\n",
       "      <td>San Francisco</td>\n",
       "      <td>NaN</td>\n",
       "    </tr>\n",
       "    <tr>\n",
       "      <th>4</th>\n",
       "      <td>5</td>\n",
       "      <td>PATRICK GARDNER</td>\n",
       "      <td>DEPUTY CHIEF OF DEPARTMENT,(FIRE DEPARTMENT)</td>\n",
       "      <td>134401.6</td>\n",
       "      <td>9737.0</td>\n",
       "      <td>182234.59</td>\n",
       "      <td>NaN</td>\n",
       "      <td>326373.19</td>\n",
       "      <td>326373.19</td>\n",
       "      <td>2011</td>\n",
       "      <td>NaN</td>\n",
       "      <td>San Francisco</td>\n",
       "      <td>NaN</td>\n",
       "    </tr>\n",
       "  </tbody>\n",
       "</table>\n",
       "</div>"
      ],
      "text/plain": [
       "   Id       EmployeeName                                        JobTitle  \\\n",
       "0   1     NATHANIEL FORD  GENERAL MANAGER-METROPOLITAN TRANSIT AUTHORITY   \n",
       "1   2       GARY JIMENEZ                 CAPTAIN III (POLICE DEPARTMENT)   \n",
       "2   3     ALBERT PARDINI                 CAPTAIN III (POLICE DEPARTMENT)   \n",
       "3   4  CHRISTOPHER CHONG            WIRE ROPE CABLE MAINTENANCE MECHANIC   \n",
       "4   5    PATRICK GARDNER    DEPUTY CHIEF OF DEPARTMENT,(FIRE DEPARTMENT)   \n",
       "\n",
       "     BasePay OvertimePay   OtherPay Benefits   TotalPay  TotalPayBenefits  \\\n",
       "0  167411.18         0.0  400184.25      NaN  567595.43         567595.43   \n",
       "1  155966.02   245131.88  137811.38      NaN  538909.28         538909.28   \n",
       "2  212739.13   106088.18    16452.6      NaN  335279.91         335279.91   \n",
       "3    77916.0    56120.71   198306.9      NaN  332343.61         332343.61   \n",
       "4   134401.6      9737.0  182234.59      NaN  326373.19         326373.19   \n",
       "\n",
       "   Year  Notes         Agency Status  \n",
       "0  2011    NaN  San Francisco    NaN  \n",
       "1  2011    NaN  San Francisco    NaN  \n",
       "2  2011    NaN  San Francisco    NaN  \n",
       "3  2011    NaN  San Francisco    NaN  \n",
       "4  2011    NaN  San Francisco    NaN  "
      ]
     },
     "execution_count": 3,
     "metadata": {},
     "output_type": "execute_result"
    }
   ],
   "source": [
    "sal.head()"
   ]
  },
  {
   "cell_type": "markdown",
   "metadata": {
    "id": "G3fFzGtzSv1M"
   },
   "source": [
    "**Use the .info() method to find out how many entries there are.**"
   ]
  },
  {
   "cell_type": "code",
   "execution_count": 4,
   "metadata": {
    "id": "GaNnYKzdSv1O",
    "outputId": "2fa9729b-ba86-4700-dadc-7e7e9675954f",
    "scrolled": false
   },
   "outputs": [
    {
     "name": "stdout",
     "output_type": "stream",
     "text": [
      "<class 'pandas.core.frame.DataFrame'>\n",
      "RangeIndex: 148654 entries, 0 to 148653\n",
      "Data columns (total 13 columns):\n",
      " #   Column            Non-Null Count   Dtype  \n",
      "---  ------            --------------   -----  \n",
      " 0   Id                148654 non-null  int64  \n",
      " 1   EmployeeName      148654 non-null  object \n",
      " 2   JobTitle          148654 non-null  object \n",
      " 3   BasePay           148049 non-null  object \n",
      " 4   OvertimePay       148654 non-null  object \n",
      " 5   OtherPay          148654 non-null  object \n",
      " 6   Benefits          112495 non-null  object \n",
      " 7   TotalPay          148654 non-null  float64\n",
      " 8   TotalPayBenefits  148654 non-null  float64\n",
      " 9   Year              148654 non-null  int64  \n",
      " 10  Notes             0 non-null       float64\n",
      " 11  Agency            148654 non-null  object \n",
      " 12  Status            38119 non-null   object \n",
      "dtypes: float64(3), int64(2), object(8)\n",
      "memory usage: 14.7+ MB\n"
     ]
    }
   ],
   "source": [
    "sal.info()"
   ]
  },
  {
   "cell_type": "code",
   "execution_count": 5,
   "metadata": {},
   "outputs": [
    {
     "data": {
      "text/plain": [
       "(148654, 13)"
      ]
     },
     "execution_count": 5,
     "metadata": {},
     "output_type": "execute_result"
    }
   ],
   "source": [
    "sal.shape"
   ]
  },
  {
   "cell_type": "code",
   "execution_count": 6,
   "metadata": {},
   "outputs": [
    {
     "data": {
      "text/plain": [
       "[148646, 148650, 148651, 148652]"
      ]
     },
     "execution_count": 6,
     "metadata": {},
     "output_type": "execute_result"
    }
   ],
   "source": [
    "list(sal.query(\"BasePay=='Not Provided'\").index)"
   ]
  },
  {
   "cell_type": "markdown",
   "metadata": {
    "id": "8ZCAzetUSv1Q"
   },
   "source": [
    "**Use the .describe() method to get some statistics for the data**"
   ]
  },
  {
   "cell_type": "code",
   "execution_count": 7,
   "metadata": {
    "id": "0-1ge9pJSv1R",
    "outputId": "0543a9a0-2b19-499c-9117-6872b1dae0a6"
   },
   "outputs": [
    {
     "data": {
      "text/html": [
       "<div>\n",
       "<style scoped>\n",
       "    .dataframe tbody tr th:only-of-type {\n",
       "        vertical-align: middle;\n",
       "    }\n",
       "\n",
       "    .dataframe tbody tr th {\n",
       "        vertical-align: top;\n",
       "    }\n",
       "\n",
       "    .dataframe thead th {\n",
       "        text-align: right;\n",
       "    }\n",
       "</style>\n",
       "<table border=\"1\" class=\"dataframe\">\n",
       "  <thead>\n",
       "    <tr style=\"text-align: right;\">\n",
       "      <th></th>\n",
       "      <th>Id</th>\n",
       "      <th>TotalPay</th>\n",
       "      <th>TotalPayBenefits</th>\n",
       "      <th>Year</th>\n",
       "      <th>Notes</th>\n",
       "    </tr>\n",
       "  </thead>\n",
       "  <tbody>\n",
       "    <tr>\n",
       "      <th>count</th>\n",
       "      <td>148654.000000</td>\n",
       "      <td>148654.000000</td>\n",
       "      <td>148654.000000</td>\n",
       "      <td>148654.000000</td>\n",
       "      <td>0.0</td>\n",
       "    </tr>\n",
       "    <tr>\n",
       "      <th>mean</th>\n",
       "      <td>74327.500000</td>\n",
       "      <td>74768.321972</td>\n",
       "      <td>93692.554811</td>\n",
       "      <td>2012.522643</td>\n",
       "      <td>NaN</td>\n",
       "    </tr>\n",
       "    <tr>\n",
       "      <th>std</th>\n",
       "      <td>42912.857795</td>\n",
       "      <td>50517.005274</td>\n",
       "      <td>62793.533483</td>\n",
       "      <td>1.117538</td>\n",
       "      <td>NaN</td>\n",
       "    </tr>\n",
       "    <tr>\n",
       "      <th>min</th>\n",
       "      <td>1.000000</td>\n",
       "      <td>-618.130000</td>\n",
       "      <td>-618.130000</td>\n",
       "      <td>2011.000000</td>\n",
       "      <td>NaN</td>\n",
       "    </tr>\n",
       "    <tr>\n",
       "      <th>25%</th>\n",
       "      <td>37164.250000</td>\n",
       "      <td>36168.995000</td>\n",
       "      <td>44065.650000</td>\n",
       "      <td>2012.000000</td>\n",
       "      <td>NaN</td>\n",
       "    </tr>\n",
       "    <tr>\n",
       "      <th>50%</th>\n",
       "      <td>74327.500000</td>\n",
       "      <td>71426.610000</td>\n",
       "      <td>92404.090000</td>\n",
       "      <td>2013.000000</td>\n",
       "      <td>NaN</td>\n",
       "    </tr>\n",
       "    <tr>\n",
       "      <th>75%</th>\n",
       "      <td>111490.750000</td>\n",
       "      <td>105839.135000</td>\n",
       "      <td>132876.450000</td>\n",
       "      <td>2014.000000</td>\n",
       "      <td>NaN</td>\n",
       "    </tr>\n",
       "    <tr>\n",
       "      <th>max</th>\n",
       "      <td>148654.000000</td>\n",
       "      <td>567595.430000</td>\n",
       "      <td>567595.430000</td>\n",
       "      <td>2014.000000</td>\n",
       "      <td>NaN</td>\n",
       "    </tr>\n",
       "  </tbody>\n",
       "</table>\n",
       "</div>"
      ],
      "text/plain": [
       "                  Id       TotalPay  TotalPayBenefits           Year  Notes\n",
       "count  148654.000000  148654.000000     148654.000000  148654.000000    0.0\n",
       "mean    74327.500000   74768.321972      93692.554811    2012.522643    NaN\n",
       "std     42912.857795   50517.005274      62793.533483       1.117538    NaN\n",
       "min         1.000000    -618.130000       -618.130000    2011.000000    NaN\n",
       "25%     37164.250000   36168.995000      44065.650000    2012.000000    NaN\n",
       "50%     74327.500000   71426.610000      92404.090000    2013.000000    NaN\n",
       "75%    111490.750000  105839.135000     132876.450000    2014.000000    NaN\n",
       "max    148654.000000  567595.430000     567595.430000    2014.000000    NaN"
      ]
     },
     "execution_count": 7,
     "metadata": {},
     "output_type": "execute_result"
    }
   ],
   "source": [
    "sal.describe()"
   ]
  },
  {
   "cell_type": "markdown",
   "metadata": {
    "id": "ATX6uwSnSv1V"
   },
   "source": [
    "**What is the average BasePay ?**"
   ]
  },
  {
   "cell_type": "code",
   "execution_count": 8,
   "metadata": {
    "id": "u_lX7FUFSv1a",
    "outputId": "bd868d34-d60a-4405-851d-1cf011e74882"
   },
   "outputs": [],
   "source": [
    "sal=sal.drop(list(sal.query(\"BasePay=='Not Provided'\").index),axis=0)"
   ]
  },
  {
   "cell_type": "code",
   "execution_count": 9,
   "metadata": {},
   "outputs": [],
   "source": [
    "sal['BasePay']=sal['BasePay'].astype(float)"
   ]
  },
  {
   "cell_type": "code",
   "execution_count": 10,
   "metadata": {},
   "outputs": [
    {
     "data": {
      "text/plain": [
       "66325.44884050643"
      ]
     },
     "execution_count": 10,
     "metadata": {},
     "output_type": "execute_result"
    }
   ],
   "source": [
    "sal['BasePay'].mean()"
   ]
  },
  {
   "cell_type": "markdown",
   "metadata": {
    "id": "lUpFSBIOSv1b"
   },
   "source": [
    "**What is the highest amount of OvertimePay in the dataset ?**"
   ]
  },
  {
   "cell_type": "code",
   "execution_count": 11,
   "metadata": {
    "id": "NZKR9qIdSv1d",
    "outputId": "e084fa5f-9f9d-4c18-b6cd-228e9d0fce94",
    "scrolled": true
   },
   "outputs": [
    {
     "data": {
      "text/plain": [
       "array([0.0, 245131.88, 106088.18, ..., '228.00', '102.70', '56.77'],\n",
       "      dtype=object)"
      ]
     },
     "execution_count": 11,
     "metadata": {},
     "output_type": "execute_result"
    }
   ],
   "source": [
    "sal['OvertimePay'].unique()"
   ]
  },
  {
   "cell_type": "code",
   "execution_count": 12,
   "metadata": {},
   "outputs": [],
   "source": [
    "sal['OvertimePay']=sal['OvertimePay'].astype(float)"
   ]
  },
  {
   "cell_type": "code",
   "execution_count": 13,
   "metadata": {},
   "outputs": [
    {
     "data": {
      "text/plain": [
       "1         245131.88\n",
       "36159     220909.48\n",
       "72964     196689.18\n",
       "36163     192424.49\n",
       "110574    173547.73\n",
       "110577    173178.23\n",
       "110583    169659.92\n",
       "72943     163477.81\n",
       "36199     160418.47\n",
       "73021     156077.49\n",
       "Name: OvertimePay, dtype: float64"
      ]
     },
     "execution_count": 13,
     "metadata": {},
     "output_type": "execute_result"
    }
   ],
   "source": [
    "sal['OvertimePay'].nlargest(10)"
   ]
  },
  {
   "cell_type": "code",
   "execution_count": 14,
   "metadata": {},
   "outputs": [
    {
     "data": {
      "text/plain": [
       "245131.88"
      ]
     },
     "execution_count": 14,
     "metadata": {},
     "output_type": "execute_result"
    }
   ],
   "source": [
    "sal['OvertimePay'].max()"
   ]
  },
  {
   "cell_type": "markdown",
   "metadata": {
    "id": "2pcpcXdvSv1e"
   },
   "source": [
    "**What is the job title of  JOSEPH DRISCOLL ? Note: Use all caps, otherwise you may get an answer that doesn't match up (there is also a lowercase Joseph Driscoll).**"
   ]
  },
  {
   "cell_type": "code",
   "execution_count": 15,
   "metadata": {
    "id": "-tr-jS9ISv1f",
    "outputId": "53c2b06e-b85d-4e11-dd8a-63af476455e3"
   },
   "outputs": [
    {
     "data": {
      "text/plain": [
       "True"
      ]
     },
     "execution_count": 15,
     "metadata": {},
     "output_type": "execute_result"
    }
   ],
   "source": [
    "'JOSEPH DRISCOLL'  in sal['EmployeeName'].unique()"
   ]
  },
  {
   "cell_type": "code",
   "execution_count": 16,
   "metadata": {},
   "outputs": [
    {
     "data": {
      "text/plain": [
       "'CAPTAIN, FIRE SUPPRESSION'"
      ]
     },
     "execution_count": 16,
     "metadata": {},
     "output_type": "execute_result"
    }
   ],
   "source": [
    "sal.query(\"EmployeeName=='JOSEPH DRISCOLL'\")['JobTitle'].values[0]"
   ]
  },
  {
   "cell_type": "markdown",
   "metadata": {
    "id": "He7af-vqSv1g"
   },
   "source": [
    "**How much does JOSEPH DRISCOLL make (including benefits)?**"
   ]
  },
  {
   "cell_type": "code",
   "execution_count": 17,
   "metadata": {
    "id": "JP464G5xSv1h",
    "outputId": "096fbaad-e0ba-4647-ad12-7d0b2661242d"
   },
   "outputs": [
    {
     "data": {
      "text/plain": [
       "270324.91"
      ]
     },
     "execution_count": 17,
     "metadata": {},
     "output_type": "execute_result"
    }
   ],
   "source": [
    "sal.query(\"EmployeeName=='JOSEPH DRISCOLL'\")['TotalPayBenefits'].values[0]"
   ]
  },
  {
   "cell_type": "markdown",
   "metadata": {
    "id": "YeKm4t_OSv1i"
   },
   "source": [
    "**What is the name of highest paid person (including benefits)?**"
   ]
  },
  {
   "cell_type": "code",
   "execution_count": 18,
   "metadata": {
    "id": "waXY0pkpSv1k",
    "outputId": "d47767b8-dc70-4cf4-93aa-fddf2d73b3f4"
   },
   "outputs": [
    {
     "data": {
      "text/html": [
       "<div>\n",
       "<style scoped>\n",
       "    .dataframe tbody tr th:only-of-type {\n",
       "        vertical-align: middle;\n",
       "    }\n",
       "\n",
       "    .dataframe tbody tr th {\n",
       "        vertical-align: top;\n",
       "    }\n",
       "\n",
       "    .dataframe thead th {\n",
       "        text-align: right;\n",
       "    }\n",
       "</style>\n",
       "<table border=\"1\" class=\"dataframe\">\n",
       "  <thead>\n",
       "    <tr style=\"text-align: right;\">\n",
       "      <th></th>\n",
       "      <th>Id</th>\n",
       "      <th>EmployeeName</th>\n",
       "      <th>JobTitle</th>\n",
       "      <th>BasePay</th>\n",
       "      <th>OvertimePay</th>\n",
       "      <th>OtherPay</th>\n",
       "      <th>Benefits</th>\n",
       "      <th>TotalPay</th>\n",
       "      <th>TotalPayBenefits</th>\n",
       "      <th>Year</th>\n",
       "      <th>Notes</th>\n",
       "      <th>Agency</th>\n",
       "      <th>Status</th>\n",
       "    </tr>\n",
       "  </thead>\n",
       "  <tbody>\n",
       "    <tr>\n",
       "      <th>0</th>\n",
       "      <td>1</td>\n",
       "      <td>NATHANIEL FORD</td>\n",
       "      <td>GENERAL MANAGER-METROPOLITAN TRANSIT AUTHORITY</td>\n",
       "      <td>167411.18</td>\n",
       "      <td>0.0</td>\n",
       "      <td>400184.25</td>\n",
       "      <td>NaN</td>\n",
       "      <td>567595.43</td>\n",
       "      <td>567595.43</td>\n",
       "      <td>2011</td>\n",
       "      <td>NaN</td>\n",
       "      <td>San Francisco</td>\n",
       "      <td>NaN</td>\n",
       "    </tr>\n",
       "  </tbody>\n",
       "</table>\n",
       "</div>"
      ],
      "text/plain": [
       "   Id    EmployeeName                                        JobTitle  \\\n",
       "0   1  NATHANIEL FORD  GENERAL MANAGER-METROPOLITAN TRANSIT AUTHORITY   \n",
       "\n",
       "     BasePay  OvertimePay   OtherPay Benefits   TotalPay  TotalPayBenefits  \\\n",
       "0  167411.18          0.0  400184.25      NaN  567595.43         567595.43   \n",
       "\n",
       "   Year  Notes         Agency Status  \n",
       "0  2011    NaN  San Francisco    NaN  "
      ]
     },
     "execution_count": 18,
     "metadata": {},
     "output_type": "execute_result"
    }
   ],
   "source": [
    "sal[sal['TotalPayBenefits']==sal['TotalPayBenefits'].max()]"
   ]
  },
  {
   "cell_type": "code",
   "execution_count": 19,
   "metadata": {
    "id": "8FqAm4wZSv1l",
    "outputId": "b0b57d8b-583a-44a4-e15b-8a512e03f172"
   },
   "outputs": [
    {
     "data": {
      "text/plain": [
       "0    NATHANIEL FORD\n",
       "Name: EmployeeName, dtype: object"
      ]
     },
     "execution_count": 19,
     "metadata": {},
     "output_type": "execute_result"
    }
   ],
   "source": [
    "sal[sal['TotalPayBenefits']==sal['TotalPayBenefits'].max()]['EmployeeName']"
   ]
  },
  {
   "cell_type": "markdown",
   "metadata": {
    "id": "REqAsPJKSv1m"
   },
   "source": [
    "**What is the name of lowest paid person (including benefits)? Do you notice something strange about how much he or she is paid?**"
   ]
  },
  {
   "cell_type": "code",
   "execution_count": 20,
   "metadata": {
    "id": "hCMerKOCSv1p",
    "outputId": "7563bf5f-cc37-488b-8b3e-161b5551c9e6",
    "scrolled": true
   },
   "outputs": [
    {
     "data": {
      "text/html": [
       "<div>\n",
       "<style scoped>\n",
       "    .dataframe tbody tr th:only-of-type {\n",
       "        vertical-align: middle;\n",
       "    }\n",
       "\n",
       "    .dataframe tbody tr th {\n",
       "        vertical-align: top;\n",
       "    }\n",
       "\n",
       "    .dataframe thead th {\n",
       "        text-align: right;\n",
       "    }\n",
       "</style>\n",
       "<table border=\"1\" class=\"dataframe\">\n",
       "  <thead>\n",
       "    <tr style=\"text-align: right;\">\n",
       "      <th></th>\n",
       "      <th>Id</th>\n",
       "      <th>EmployeeName</th>\n",
       "      <th>JobTitle</th>\n",
       "      <th>BasePay</th>\n",
       "      <th>OvertimePay</th>\n",
       "      <th>OtherPay</th>\n",
       "      <th>Benefits</th>\n",
       "      <th>TotalPay</th>\n",
       "      <th>TotalPayBenefits</th>\n",
       "      <th>Year</th>\n",
       "      <th>Notes</th>\n",
       "      <th>Agency</th>\n",
       "      <th>Status</th>\n",
       "    </tr>\n",
       "  </thead>\n",
       "  <tbody>\n",
       "    <tr>\n",
       "      <th>148653</th>\n",
       "      <td>148654</td>\n",
       "      <td>Joe Lopez</td>\n",
       "      <td>Counselor, Log Cabin Ranch</td>\n",
       "      <td>0.0</td>\n",
       "      <td>0.0</td>\n",
       "      <td>-618.13</td>\n",
       "      <td>0.00</td>\n",
       "      <td>-618.13</td>\n",
       "      <td>-618.13</td>\n",
       "      <td>2014</td>\n",
       "      <td>NaN</td>\n",
       "      <td>San Francisco</td>\n",
       "      <td>PT</td>\n",
       "    </tr>\n",
       "  </tbody>\n",
       "</table>\n",
       "</div>"
      ],
      "text/plain": [
       "            Id EmployeeName                    JobTitle  BasePay  OvertimePay  \\\n",
       "148653  148654    Joe Lopez  Counselor, Log Cabin Ranch      0.0          0.0   \n",
       "\n",
       "       OtherPay Benefits  TotalPay  TotalPayBenefits  Year  Notes  \\\n",
       "148653  -618.13     0.00   -618.13           -618.13  2014    NaN   \n",
       "\n",
       "               Agency Status  \n",
       "148653  San Francisco     PT  "
      ]
     },
     "execution_count": 20,
     "metadata": {},
     "output_type": "execute_result"
    }
   ],
   "source": [
    "sal[sal['TotalPayBenefits']==sal['TotalPayBenefits'].min()]"
   ]
  },
  {
   "cell_type": "code",
   "execution_count": 21,
   "metadata": {},
   "outputs": [
    {
     "data": {
      "text/plain": [
       "148653    Joe Lopez\n",
       "Name: EmployeeName, dtype: object"
      ]
     },
     "execution_count": 21,
     "metadata": {},
     "output_type": "execute_result"
    }
   ],
   "source": [
    "sal[sal['TotalPayBenefits']==sal['TotalPayBenefits'].min()]['EmployeeName']"
   ]
  },
  {
   "cell_type": "markdown",
   "metadata": {
    "id": "aCLQ3Z7YSv1r"
   },
   "source": [
    "**What was the average (mean) BasePay of all employees per year? (2011-2014) ?**"
   ]
  },
  {
   "cell_type": "code",
   "execution_count": 22,
   "metadata": {
    "id": "8x8y7-KMSv1_",
    "outputId": "0472ca18-9282-4742-96db-6d52bd31cfa8"
   },
   "outputs": [
    {
     "data": {
      "text/plain": [
       "Year\n",
       "2011    63595.956517\n",
       "2012    65436.406857\n",
       "2013    69630.030216\n",
       "2014    66564.421924\n",
       "Name: BasePay, dtype: float64"
      ]
     },
     "execution_count": 22,
     "metadata": {},
     "output_type": "execute_result"
    }
   ],
   "source": [
    "sal.groupby('Year').mean()['BasePay']"
   ]
  },
  {
   "cell_type": "markdown",
   "metadata": {
    "id": "fDIc1qNaSv2A"
   },
   "source": [
    "**How many unique job titles are there?**"
   ]
  },
  {
   "cell_type": "code",
   "execution_count": 23,
   "metadata": {
    "id": "bQu0wkXuSv2B",
    "outputId": "142d0f10-fa34-407c-ec0b-4d18f1b9cff6"
   },
   "outputs": [
    {
     "data": {
      "text/plain": [
       "2158"
      ]
     },
     "execution_count": 23,
     "metadata": {},
     "output_type": "execute_result"
    }
   ],
   "source": [
    "len(sal['JobTitle'].unique())"
   ]
  },
  {
   "cell_type": "markdown",
   "metadata": {
    "id": "t63wrN83Sv2C"
   },
   "source": [
    "**What are the top 5 most common jobs?**"
   ]
  },
  {
   "cell_type": "code",
   "execution_count": 24,
   "metadata": {},
   "outputs": [
    {
     "data": {
      "text/plain": [
       "Transit Operator                7036\n",
       "Special Nurse                   4389\n",
       "Registered Nurse                3736\n",
       "Public Svc Aide-Public Works    2518\n",
       "Police Officer 3                2421\n",
       "Name: JobTitle, dtype: int64"
      ]
     },
     "execution_count": 24,
     "metadata": {},
     "output_type": "execute_result"
    }
   ],
   "source": [
    "sal['JobTitle'].value_counts().nlargest(5)"
   ]
  },
  {
   "cell_type": "markdown",
   "metadata": {
    "id": "ECfXjCk_Sv2E"
   },
   "source": [
    "**How many Job Titles were represented by only one person in 2013? (e.g. Job Titles with only one occurence in 2013?)**"
   ]
  },
  {
   "cell_type": "code",
   "execution_count": 25,
   "metadata": {
    "id": "xntQuFhfSv2F",
    "outputId": "975e8e67-c2a5-49e8-ad31-815adc745602"
   },
   "outputs": [
    {
     "data": {
      "text/plain": [
       "202"
      ]
     },
     "execution_count": 25,
     "metadata": {},
     "output_type": "execute_result"
    }
   ],
   "source": [
    "(sal[sal['Year']==2013]['JobTitle'].value_counts()==1).sum()"
   ]
  },
  {
   "cell_type": "markdown",
   "metadata": {
    "id": "IwRMj6CxSv2G"
   },
   "source": [
    "**How many people have the word Chief in their job title? (This is pretty tricky)**"
   ]
  },
  {
   "cell_type": "code",
   "execution_count": 26,
   "metadata": {
    "id": "NzbEQKNMSv2H",
    "outputId": "ff3677bd-2c7a-4bfd-e7d6-a663bf52f721"
   },
   "outputs": [
    {
     "data": {
      "text/plain": [
       "423"
      ]
     },
     "execution_count": 26,
     "metadata": {},
     "output_type": "execute_result"
    }
   ],
   "source": [
    "chief_list=[]\n",
    "\n",
    "for job in sal['JobTitle'].values:\n",
    "    if 'Chief' in job or 'chief' in job:\n",
    "        chief_list.append(job)\n",
    "len(chief_list)        "
   ]
  },
  {
   "cell_type": "code",
   "execution_count": 32,
   "metadata": {},
   "outputs": [],
   "source": [
    "length=[]\n",
    "for i in sal['JobTitle']:\n",
    "    length.append(len(i))"
   ]
  },
  {
   "cell_type": "code",
   "execution_count": 33,
   "metadata": {},
   "outputs": [
    {
     "data": {
      "text/plain": [
       "[46,\n",
       " 31,\n",
       " 31,\n",
       " 36,\n",
       " 44,\n",
       " 25,\n",
       " 34,\n",
       " 30,\n",
       " 34,\n",
       " 38,\n",
       " 48,\n",
       " 31,\n",
       " 27,\n",
       " 17,\n",
       " 34,\n",
       " 34,\n",
       " 17,\n",
       " 37,\n",
       " 34,\n",
       " 26,\n",
       " 26,\n",
       " 26,\n",
       " 25,\n",
       " 34,\n",
       " 25,\n",
       " 15,\n",
       " 25,\n",
       " 34,\n",
       " 36,\n",
       " 44,\n",
       " 27,\n",
       " 36,\n",
       " 17,\n",
       " 34,\n",
       " 34,\n",
       " 33,\n",
       " 34,\n",
       " 34,\n",
       " 34,\n",
       " 34,\n",
       " 34,\n",
       " 34,\n",
       " 44,\n",
       " 11,\n",
       " 30,\n",
       " 5,\n",
       " 34,\n",
       " 17,\n",
       " 36,\n",
       " 27,\n",
       " 34,\n",
       " 17,\n",
       " 25,\n",
       " 25,\n",
       " 37,\n",
       " 36,\n",
       " 17,\n",
       " 25,\n",
       " 27,\n",
       " 11,\n",
       " 27,\n",
       " 31,\n",
       " 37,\n",
       " 34,\n",
       " 34,\n",
       " 31,\n",
       " 48,\n",
       " 25,\n",
       " 36,\n",
       " 27,\n",
       " 17,\n",
       " 34,\n",
       " 49,\n",
       " 13,\n",
       " 34,\n",
       " 34,\n",
       " 34,\n",
       " 50,\n",
       " 25,\n",
       " 34,\n",
       " 27,\n",
       " 27,\n",
       " 34,\n",
       " 46,\n",
       " 37,\n",
       " 22,\n",
       " 34,\n",
       " 11,\n",
       " 18,\n",
       " 50,\n",
       " 34,\n",
       " 31,\n",
       " 25,\n",
       " 31,\n",
       " 34,\n",
       " 12,\n",
       " 11,\n",
       " 34,\n",
       " 22,\n",
       " 48,\n",
       " 34,\n",
       " 27,\n",
       " 11,\n",
       " 18,\n",
       " 11,\n",
       " 11,\n",
       " 34,\n",
       " 18,\n",
       " 18,\n",
       " 11,\n",
       " 11,\n",
       " 18,\n",
       " 48,\n",
       " 18,\n",
       " 18,\n",
       " 20,\n",
       " 17,\n",
       " 32,\n",
       " 34,\n",
       " 18,\n",
       " 25,\n",
       " 11,\n",
       " 22,\n",
       " 18,\n",
       " 18,\n",
       " 31,\n",
       " 11,\n",
       " 34,\n",
       " 25,\n",
       " 27,\n",
       " 50,\n",
       " 25,\n",
       " 18,\n",
       " 34,\n",
       " 34,\n",
       " 27,\n",
       " 21,\n",
       " 17,\n",
       " 49,\n",
       " 49,\n",
       " 49,\n",
       " 27,\n",
       " 32,\n",
       " 11,\n",
       " 34,\n",
       " 37,\n",
       " 18,\n",
       " 11,\n",
       " 27,\n",
       " 18,\n",
       " 11,\n",
       " 34,\n",
       " 34,\n",
       " 37,\n",
       " 14,\n",
       " 34,\n",
       " 32,\n",
       " 34,\n",
       " 34,\n",
       " 48,\n",
       " 18,\n",
       " 22,\n",
       " 12,\n",
       " 32,\n",
       " 22,\n",
       " 11,\n",
       " 18,\n",
       " 11,\n",
       " 13,\n",
       " 34,\n",
       " 27,\n",
       " 32,\n",
       " 25,\n",
       " 27,\n",
       " 34,\n",
       " 27,\n",
       " 27,\n",
       " 12,\n",
       " 22,\n",
       " 13,\n",
       " 34,\n",
       " 29,\n",
       " 12,\n",
       " 11,\n",
       " 34,\n",
       " 12,\n",
       " 30,\n",
       " 50,\n",
       " 18,\n",
       " 27,\n",
       " 32,\n",
       " 30,\n",
       " 34,\n",
       " 25,\n",
       " 27,\n",
       " 11,\n",
       " 35,\n",
       " 50,\n",
       " 11,\n",
       " 11,\n",
       " 11,\n",
       " 11,\n",
       " 25,\n",
       " 13,\n",
       " 11,\n",
       " 12,\n",
       " 32,\n",
       " 22,\n",
       " 34,\n",
       " 34,\n",
       " 34,\n",
       " 31,\n",
       " 25,\n",
       " 11,\n",
       " 31,\n",
       " 27,\n",
       " 18,\n",
       " 11,\n",
       " 22,\n",
       " 12,\n",
       " 18,\n",
       " 11,\n",
       " 36,\n",
       " 25,\n",
       " 16,\n",
       " 31,\n",
       " 22,\n",
       " 11,\n",
       " 17,\n",
       " 25,\n",
       " 18,\n",
       " 14,\n",
       " 22,\n",
       " 27,\n",
       " 27,\n",
       " 11,\n",
       " 18,\n",
       " 22,\n",
       " 22,\n",
       " 31,\n",
       " 31,\n",
       " 25,\n",
       " 34,\n",
       " 30,\n",
       " 18,\n",
       " 18,\n",
       " 50,\n",
       " 13,\n",
       " 31,\n",
       " 22,\n",
       " 18,\n",
       " 11,\n",
       " 31,\n",
       " 31,\n",
       " 11,\n",
       " 13,\n",
       " 27,\n",
       " 31,\n",
       " 30,\n",
       " 25,\n",
       " 25,\n",
       " 31,\n",
       " 22,\n",
       " 18,\n",
       " 18,\n",
       " 18,\n",
       " 38,\n",
       " 27,\n",
       " 27,\n",
       " 27,\n",
       " 11,\n",
       " 18,\n",
       " 11,\n",
       " 18,\n",
       " 31,\n",
       " 11,\n",
       " 34,\n",
       " 31,\n",
       " 50,\n",
       " 11,\n",
       " 22,\n",
       " 22,\n",
       " 15,\n",
       " 27,\n",
       " 31,\n",
       " 34,\n",
       " 18,\n",
       " 17,\n",
       " 27,\n",
       " 34,\n",
       " 34,\n",
       " 18,\n",
       " 32,\n",
       " 7,\n",
       " 11,\n",
       " 11,\n",
       " 31,\n",
       " 13,\n",
       " 35,\n",
       " 35,\n",
       " 11,\n",
       " 11,\n",
       " 18,\n",
       " 31,\n",
       " 13,\n",
       " 33,\n",
       " 24,\n",
       " 11,\n",
       " 18,\n",
       " 27,\n",
       " 34,\n",
       " 27,\n",
       " 34,\n",
       " 32,\n",
       " 25,\n",
       " 17,\n",
       " 48,\n",
       " 11,\n",
       " 25,\n",
       " 31,\n",
       " 11,\n",
       " 11,\n",
       " 18,\n",
       " 11,\n",
       " 27,\n",
       " 11,\n",
       " 32,\n",
       " 34,\n",
       " 13,\n",
       " 27,\n",
       " 11,\n",
       " 17,\n",
       " 42,\n",
       " 27,\n",
       " 27,\n",
       " 27,\n",
       " 37,\n",
       " 32,\n",
       " 32,\n",
       " 50,\n",
       " 27,\n",
       " 32,\n",
       " 11,\n",
       " 32,\n",
       " 25,\n",
       " 11,\n",
       " 18,\n",
       " 19,\n",
       " 31,\n",
       " 11,\n",
       " 32,\n",
       " 34,\n",
       " 10,\n",
       " 18,\n",
       " 18,\n",
       " 11,\n",
       " 11,\n",
       " 11,\n",
       " 22,\n",
       " 27,\n",
       " 50,\n",
       " 18,\n",
       " 18,\n",
       " 13,\n",
       " 14,\n",
       " 11,\n",
       " 31,\n",
       " 31,\n",
       " 31,\n",
       " 31,\n",
       " 31,\n",
       " 31,\n",
       " 34,\n",
       " 18,\n",
       " 29,\n",
       " 25,\n",
       " 34,\n",
       " 34,\n",
       " 27,\n",
       " 11,\n",
       " 32,\n",
       " 32,\n",
       " 32,\n",
       " 32,\n",
       " 22,\n",
       " 18,\n",
       " 34,\n",
       " 27,\n",
       " 11,\n",
       " 27,\n",
       " 19,\n",
       " 25,\n",
       " 11,\n",
       " 18,\n",
       " 13,\n",
       " 12,\n",
       " 31,\n",
       " 18,\n",
       " 39,\n",
       " 32,\n",
       " 30,\n",
       " 34,\n",
       " 32,\n",
       " 11,\n",
       " 19,\n",
       " 11,\n",
       " 13,\n",
       " 18,\n",
       " 32,\n",
       " 32,\n",
       " 34,\n",
       " 19,\n",
       " 18,\n",
       " 11,\n",
       " 37,\n",
       " 27,\n",
       " 18,\n",
       " 13,\n",
       " 11,\n",
       " 34,\n",
       " 18,\n",
       " 34,\n",
       " 27,\n",
       " 42,\n",
       " 37,\n",
       " 31,\n",
       " 13,\n",
       " 34,\n",
       " 13,\n",
       " 17,\n",
       " 12,\n",
       " 25,\n",
       " 11,\n",
       " 39,\n",
       " 18,\n",
       " 27,\n",
       " 34,\n",
       " 34,\n",
       " 26,\n",
       " 32,\n",
       " 27,\n",
       " 13,\n",
       " 13,\n",
       " 27,\n",
       " 22,\n",
       " 13,\n",
       " 22,\n",
       " 22,\n",
       " 29,\n",
       " 11,\n",
       " 10,\n",
       " 34,\n",
       " 18,\n",
       " 17,\n",
       " 18,\n",
       " 19,\n",
       " 27,\n",
       " 27,\n",
       " 24,\n",
       " 33,\n",
       " 27,\n",
       " 22,\n",
       " 12,\n",
       " 21,\n",
       " 32,\n",
       " 32,\n",
       " 27,\n",
       " 25,\n",
       " 27,\n",
       " 32,\n",
       " 18,\n",
       " 34,\n",
       " 24,\n",
       " 11,\n",
       " 34,\n",
       " 43,\n",
       " 18,\n",
       " 48,\n",
       " 29,\n",
       " 27,\n",
       " 18,\n",
       " 32,\n",
       " 11,\n",
       " 34,\n",
       " 34,\n",
       " 27,\n",
       " 34,\n",
       " 25,\n",
       " 37,\n",
       " 11,\n",
       " 34,\n",
       " 13,\n",
       " 25,\n",
       " 11,\n",
       " 27,\n",
       " 18,\n",
       " 27,\n",
       " 17,\n",
       " 12,\n",
       " 17,\n",
       " 12,\n",
       " 17,\n",
       " 12,\n",
       " 17,\n",
       " 12,\n",
       " 17,\n",
       " 26,\n",
       " 26,\n",
       " 26,\n",
       " 26,\n",
       " 26,\n",
       " 26,\n",
       " 26,\n",
       " 26,\n",
       " 26,\n",
       " 26,\n",
       " 26,\n",
       " 26,\n",
       " 26,\n",
       " 26,\n",
       " 26,\n",
       " 26,\n",
       " 26,\n",
       " 34,\n",
       " 16,\n",
       " 31,\n",
       " 17,\n",
       " 25,\n",
       " 34,\n",
       " 27,\n",
       " 11,\n",
       " 18,\n",
       " 32,\n",
       " 34,\n",
       " 19,\n",
       " 27,\n",
       " 11,\n",
       " 33,\n",
       " 10,\n",
       " 25,\n",
       " 18,\n",
       " 27,\n",
       " 13,\n",
       " 22,\n",
       " 32,\n",
       " 27,\n",
       " 20,\n",
       " 26,\n",
       " 26,\n",
       " 27,\n",
       " 25,\n",
       " 34,\n",
       " 34,\n",
       " 29,\n",
       " 27,\n",
       " 11,\n",
       " 27,\n",
       " 25,\n",
       " 32,\n",
       " 27,\n",
       " 13,\n",
       " 18,\n",
       " 27,\n",
       " 11,\n",
       " 13,\n",
       " 26,\n",
       " 11,\n",
       " 26,\n",
       " 27,\n",
       " 18,\n",
       " 34,\n",
       " 11,\n",
       " 34,\n",
       " 13,\n",
       " 13,\n",
       " 11,\n",
       " 32,\n",
       " 18,\n",
       " 32,\n",
       " 11,\n",
       " 18,\n",
       " 13,\n",
       " 18,\n",
       " 32,\n",
       " 10,\n",
       " 27,\n",
       " 25,\n",
       " 11,\n",
       " 13,\n",
       " 32,\n",
       " 32,\n",
       " 25,\n",
       " 34,\n",
       " 22,\n",
       " 37,\n",
       " 34,\n",
       " 27,\n",
       " 13,\n",
       " 13,\n",
       " 27,\n",
       " 13,\n",
       " 50,\n",
       " 31,\n",
       " 11,\n",
       " 13,\n",
       " 34,\n",
       " 27,\n",
       " 11,\n",
       " 27,\n",
       " 34,\n",
       " 25,\n",
       " 27,\n",
       " 27,\n",
       " 18,\n",
       " 11,\n",
       " 11,\n",
       " 34,\n",
       " 26,\n",
       " 18,\n",
       " 27,\n",
       " 34,\n",
       " 25,\n",
       " 27,\n",
       " 25,\n",
       " 11,\n",
       " 11,\n",
       " 11,\n",
       " 27,\n",
       " 11,\n",
       " 34,\n",
       " 11,\n",
       " 34,\n",
       " 27,\n",
       " 11,\n",
       " 32,\n",
       " 11,\n",
       " 13,\n",
       " 29,\n",
       " 18,\n",
       " 32,\n",
       " 11,\n",
       " 34,\n",
       " 18,\n",
       " 32,\n",
       " 44,\n",
       " 27,\n",
       " 17,\n",
       " 18,\n",
       " 11,\n",
       " 34,\n",
       " 11,\n",
       " 32,\n",
       " 33,\n",
       " 34,\n",
       " 11,\n",
       " 50,\n",
       " 11,\n",
       " 25,\n",
       " 32,\n",
       " 33,\n",
       " 33,\n",
       " 33,\n",
       " 33,\n",
       " 32,\n",
       " 33,\n",
       " 33,\n",
       " 33,\n",
       " 33,\n",
       " 33,\n",
       " 33,\n",
       " 33,\n",
       " 33,\n",
       " 33,\n",
       " 33,\n",
       " 33,\n",
       " 32,\n",
       " 22,\n",
       " 22,\n",
       " 11,\n",
       " 11,\n",
       " 11,\n",
       " 24,\n",
       " 11,\n",
       " 11,\n",
       " 34,\n",
       " 21,\n",
       " 48,\n",
       " 11,\n",
       " 34,\n",
       " 27,\n",
       " 18,\n",
       " 34,\n",
       " 11,\n",
       " 11,\n",
       " 34,\n",
       " 34,\n",
       " 18,\n",
       " 18,\n",
       " 18,\n",
       " 32,\n",
       " 11,\n",
       " 24,\n",
       " 11,\n",
       " 27,\n",
       " 17,\n",
       " 11,\n",
       " 27,\n",
       " 27,\n",
       " 34,\n",
       " 27,\n",
       " 22,\n",
       " 25,\n",
       " 27,\n",
       " 27,\n",
       " 27,\n",
       " 27,\n",
       " 27,\n",
       " 50,\n",
       " 27,\n",
       " 18,\n",
       " 32,\n",
       " 18,\n",
       " 11,\n",
       " 22,\n",
       " 34,\n",
       " 22,\n",
       " 11,\n",
       " 13,\n",
       " 18,\n",
       " 18,\n",
       " 27,\n",
       " 24,\n",
       " 25,\n",
       " 11,\n",
       " 37,\n",
       " 34,\n",
       " 22,\n",
       " 18,\n",
       " 27,\n",
       " 11,\n",
       " 11,\n",
       " 18,\n",
       " 33,\n",
       " 11,\n",
       " 27,\n",
       " 18,\n",
       " 34,\n",
       " 25,\n",
       " 14,\n",
       " 11,\n",
       " 13,\n",
       " 19,\n",
       " 11,\n",
       " 13,\n",
       " 34,\n",
       " 11,\n",
       " 10,\n",
       " 10,\n",
       " 17,\n",
       " 10,\n",
       " 12,\n",
       " 11,\n",
       " 13,\n",
       " 16,\n",
       " 18,\n",
       " 32,\n",
       " 20,\n",
       " 27,\n",
       " 34,\n",
       " 32,\n",
       " 33,\n",
       " 33,\n",
       " 33,\n",
       " 33,\n",
       " 33,\n",
       " 27,\n",
       " 27,\n",
       " 33,\n",
       " 33,\n",
       " 33,\n",
       " 33,\n",
       " 25,\n",
       " 33,\n",
       " 25,\n",
       " 33,\n",
       " 33,\n",
       " 25,\n",
       " 33,\n",
       " 22,\n",
       " 34,\n",
       " 11,\n",
       " 13,\n",
       " 15,\n",
       " 22,\n",
       " 22,\n",
       " 18,\n",
       " 34,\n",
       " 37,\n",
       " 22,\n",
       " 13,\n",
       " 19,\n",
       " 27,\n",
       " 18,\n",
       " 23,\n",
       " 22,\n",
       " 11,\n",
       " 24,\n",
       " 22,\n",
       " 34,\n",
       " 18,\n",
       " 11,\n",
       " 27,\n",
       " 11,\n",
       " 34,\n",
       " 34,\n",
       " 13,\n",
       " 27,\n",
       " 34,\n",
       " 34,\n",
       " 8,\n",
       " 18,\n",
       " 18,\n",
       " 8,\n",
       " 18,\n",
       " 15,\n",
       " 18,\n",
       " 15,\n",
       " 18,\n",
       " 15,\n",
       " 11,\n",
       " 13,\n",
       " 11,\n",
       " 11,\n",
       " 34,\n",
       " 27,\n",
       " 19,\n",
       " 18,\n",
       " 24,\n",
       " 24,\n",
       " 27,\n",
       " 25,\n",
       " 34,\n",
       " 16,\n",
       " 32,\n",
       " 11,\n",
       " 32,\n",
       " 27,\n",
       " 37,\n",
       " 34,\n",
       " 34,\n",
       " 11,\n",
       " 18,\n",
       " 22,\n",
       " 18,\n",
       " 34,\n",
       " 12,\n",
       " 27,\n",
       " 22,\n",
       " 27,\n",
       " 48,\n",
       " 18,\n",
       " 18,\n",
       " 18,\n",
       " 18,\n",
       " 18,\n",
       " 48,\n",
       " 11,\n",
       " 18,\n",
       " 19,\n",
       " 17,\n",
       " 19,\n",
       " 48,\n",
       " 11,\n",
       " 17,\n",
       " 27,\n",
       " 11,\n",
       " 18,\n",
       " 34,\n",
       " 11,\n",
       " 25,\n",
       " 11,\n",
       " 18,\n",
       " 27,\n",
       " 50,\n",
       " 27,\n",
       " 34,\n",
       " 18,\n",
       " 11,\n",
       " 11,\n",
       " 33,\n",
       " 34,\n",
       " 11,\n",
       " 11,\n",
       " 27,\n",
       " 27,\n",
       " 18,\n",
       " 17,\n",
       " 11,\n",
       " 34,\n",
       " 33,\n",
       " 50,\n",
       " 11,\n",
       " 32,\n",
       " 32,\n",
       " 11,\n",
       " 33,\n",
       " 22,\n",
       " 27,\n",
       " 19,\n",
       " 11,\n",
       " 22,\n",
       " 11,\n",
       " 31,\n",
       " 19,\n",
       " 18,\n",
       " 11,\n",
       " 12,\n",
       " 18,\n",
       " 11,\n",
       " 11,\n",
       " 11,\n",
       " 11,\n",
       " 11,\n",
       " 18,\n",
       " 32,\n",
       " 27,\n",
       " 25,\n",
       " 11,\n",
       " 11,\n",
       " 11,\n",
       " 11,\n",
       " 11,\n",
       " 11,\n",
       " 34,\n",
       " 11,\n",
       " 32,\n",
       " 18,\n",
       " 18,\n",
       " 18,\n",
       " 25,\n",
       " 33,\n",
       " 11,\n",
       " 27,\n",
       " 34,\n",
       " 11,\n",
       " 32,\n",
       " 13,\n",
       " 13,\n",
       " 25,\n",
       " 11,\n",
       " 19,\n",
       " 18,\n",
       " 24,\n",
       " 11,\n",
       " 27,\n",
       " 11,\n",
       " 40,\n",
       " 9,\n",
       " 18,\n",
       " 32,\n",
       " 37,\n",
       " 22,\n",
       " 32,\n",
       " 20,\n",
       " 34,\n",
       " 34,\n",
       " 18,\n",
       " 27,\n",
       " 24,\n",
       " 24,\n",
       " 11,\n",
       " 24,\n",
       " 27,\n",
       " 22,\n",
       " 34,\n",
       " 34,\n",
       " 22,\n",
       " 17,\n",
       " 34,\n",
       " 12,\n",
       " 18,\n",
       " 11,\n",
       " 27,\n",
       " 22,\n",
       " 26,\n",
       " 36,\n",
       " 25,\n",
       " 32,\n",
       " 20,\n",
       " 32,\n",
       " 21,\n",
       " 34,\n",
       " 11,\n",
       " 13,\n",
       " 11,\n",
       " 25,\n",
       " 25,\n",
       " 25,\n",
       " 25,\n",
       " 25,\n",
       " ...]"
      ]
     },
     "execution_count": 33,
     "metadata": {},
     "output_type": "execute_result"
    }
   ],
   "source": [
    "length"
   ]
  },
  {
   "cell_type": "markdown",
   "metadata": {
    "id": "lJROvRqXSv2H"
   },
   "source": [
    "**Bonus: Is there a correlation between length of the Job Title string and Salary?**"
   ]
  },
  {
   "cell_type": "code",
   "execution_count": 27,
   "metadata": {},
   "outputs": [],
   "source": [
    "import matplotlib.pyplot as plt\n"
   ]
  },
  {
   "cell_type": "code",
   "execution_count": 28,
   "metadata": {},
   "outputs": [],
   "source": [
    "plt.style.use('ggplot')"
   ]
  },
  {
   "cell_type": "code",
   "execution_count": 34,
   "metadata": {},
   "outputs": [
    {
     "data": {
      "text/plain": [
       "[<matplotlib.lines.Line2D at 0x1e872a37d60>]"
      ]
     },
     "execution_count": 34,
     "metadata": {},
     "output_type": "execute_result"
    },
    {
     "data": {
      "image/png": "[encoded data removed]",
      "text/plain": [
       "<Figure size 432x288 with 1 Axes>"
      ]
     },
     "metadata": {},
     "output_type": "display_data"
    }
   ],
   "source": [
    "plt.plot(length,sal['TotalPayBenefits'])"
   ]
  },
  {
   "cell_type": "code",
   "execution_count": null,
   "metadata": {},
   "outputs": [],
   "source": []
  },
  {
   "cell_type": "markdown",
   "metadata": {
    "id": "TjsPE1b0Sv2M"
   },
   "source": [
    "# Great Job!"
   ]
  }
 ],
 "metadata": {
  "colab": {
   "provenance": []
  },
  "kernelspec": {
   "display_name": "Python 3 (ipykernel)",
   "language": "python",
   "name": "python3"
  },
  "language_info": {
   "codemirror_mode": {
    "name": "ipython",
    "version": 3
   },
   "file_extension": ".py",
   "mimetype": "text/x-python",
   "name": "python",
   "nbconvert_exporter": "python",
   "pygments_lexer": "ipython3",
   "version": "3.9.12"
  }
 },
 "nbformat": 4,
 "nbformat_minor": 1
}
